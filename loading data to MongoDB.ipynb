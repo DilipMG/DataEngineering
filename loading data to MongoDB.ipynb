{
 "cells": [
  {
   "cell_type": "code",
   "execution_count": 3,
   "id": "e8feabb6",
   "metadata": {},
   "outputs": [],
   "source": [
    "# !pip install pymongo"
   ]
  },
  {
   "cell_type": "code",
   "execution_count": 4,
   "id": "bf832c8f",
   "metadata": {},
   "outputs": [
    {
     "data": {
      "text/plain": [
       "Database(MongoClient(host=['q9g8j.h.filess.io:61004'], document_class=dict, tz_aware=False, connect=True), 'olistDataNoSQL_thencheese')"
      ]
     },
     "metadata": {},
     "output_type": "display_data"
    }
   ],
   "source": [
    "\n",
    "# importing module\n",
    "from pymongo import MongoClient\n",
    "\n",
    "hostname = \"q9g8j.h.filess.io\"\n",
    "database = \"olistDataNoSQL_thencheese\"\n",
    "port = \"61004\"\n",
    "username = \"olistDataNoSQL_thencheese\"\n",
    "password = \"916bc2473e798b3db3f94215c2b576b27b57fb3b\"\n",
    "\n",
    "uri = \"mongodb://\" + username + \":\" + password + \"@\" + hostname + \":\" + port + \"/\" + database\n",
    "\n",
    "# Connect with the portnumber and host\n",
    "client = MongoClient(uri)\n",
    "\n",
    "# Access database\n",
    "mydatabase = client[database]\n",
    "display(mydatabase)\n"
   ]
  },
  {
   "cell_type": "code",
   "execution_count": null,
   "id": "1bb770e7",
   "metadata": {},
   "outputs": [],
   "source": [
    "# prompt: read the product_category csv and create a collection and upload it to above mongoDB\n",
    "\n",
    "import pandas as pd\n",
    "from pymongo import MongoClient\n",
    "\n",
    "# Load the product_category CSV file into a pandas DataFrame\n",
    "try:\n",
    "  product_category_df = pd.read_csv(\"product_category_name_translation.csv\")\n",
    "except FileNotFoundError:\n",
    "  print(\"Error: 'product_category_name_translation.csv' not found.\")\n",
    "  exit() # Exit the script if the file is not found\n",
    "\n",
    "\n",
    "# MongoDB connection details (assuming these are already defined in your script)\n",
    "hostname = \"q9g8j.h.filess.io\"\n",
    "database = \"olistDataNoSQL_thencheese\"\n",
    "port = \"61004\"\n",
    "username = \"olistDataNoSQL_thencheese\"\n",
    "password = \"916bc2473e798b3db3f94215c2b576b27b57fb3b\"\n",
    "\n",
    "uri = \"mongodb://\" + username + \":\" + password + \"@\" + hostname + \":\" + port + \"/\" + database\n",
    "\n",
    "try:\n",
    "    # Establish a connection to MongoDB\n",
    "    client = MongoClient(uri)\n",
    "    db = client[database]\n",
    "\n",
    "    # Select the collection (or create if it doesn't exist)\n",
    "    collection = db[\"product_categories\"]  # Choose a suitable name for your collection\n",
    "\n",
    "    # Convert the DataFrame to a list of dictionaries for insertion into MongoDB\n",
    "    data_to_insert = product_category_df.to_dict(orient=\"records\")\n",
    "\n",
    "    # Insert the data into the collection\n",
    "    collection.insert_many(data_to_insert)\n",
    "\n",
    "    print(\"Data uploaded to MongoDB successfully!\")\n",
    "\n",
    "except Exception as e:\n",
    "    print(f\"An error occurred: {e}\")\n",
    "\n",
    "finally:\n",
    "    # Close the MongoDB connection\n",
    "    if client:\n",
    "        client.close()"
   ]
  }
 ],
 "metadata": {
  "kernelspec": {
   "display_name": "Python 3 (ipykernel)",
   "language": "python",
   "name": "python3"
  },
  "language_info": {
   "codemirror_mode": {
    "name": "ipython",
    "version": 3
   },
   "file_extension": ".py",
   "mimetype": "text/x-python",
   "name": "python",
   "nbconvert_exporter": "python",
   "pygments_lexer": "ipython3",
   "version": "3.9.13"
  }
 },
 "nbformat": 4,
 "nbformat_minor": 5
}
